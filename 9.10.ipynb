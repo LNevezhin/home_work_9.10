{
 "cells": [
  {
   "cell_type": "markdown",
   "metadata": {
    "colab_type": "text",
    "id": "c2KtXmjxtgw-"
   },
   "source": [
    "# Исключения\n",
    "## Домашняя работа"
   ]
  },
  {
   "cell_type": "markdown",
   "metadata": {
    "colab_type": "text",
    "id": "0Vhx-zKitgxA"
   },
   "source": [
    "### Вопросы по лекциям."
   ]
  },
  {
   "cell_type": "markdown",
   "metadata": {
    "colab_type": "text",
    "id": "14lleKewtgxC"
   },
   "source": [
    "Как поймать вообще все ошибки, которые могут произойти?"
   ]
  },
  {
   "cell_type": "markdown",
   "metadata": {
    "colab_type": "text",
    "id": "VQnYGkVKtgxD"
   },
   "source": [
    "**Ответ:**\n",
    "\n",
    "try:\n",
    "    \n",
    "    код(если нет ошибки)\n",
    "    \n",
    "except:\n",
    "    \n",
    "    код(если возникла ошибка)"
   ]
  },
  {
   "cell_type": "markdown",
   "metadata": {
    "colab_type": "text",
    "id": "paSc2JE6tgxD"
   },
   "source": [
    "Сколько раз подряд можно указывать except?"
   ]
  },
  {
   "cell_type": "markdown",
   "metadata": {
    "colab_type": "text",
    "id": "bU0lzJPBtgxE"
   },
   "source": [
    "**Ответ:**\n",
    "сколько угодно"
   ]
  },
  {
   "cell_type": "markdown",
   "metadata": {
    "colab_type": "text",
    "id": "9wQ-yXpGtgxF"
   },
   "source": [
    "Вы хотите с помощью print вывести название ошибки в консоль, как это сделать?"
   ]
  },
  {
   "cell_type": "markdown",
   "metadata": {
    "colab_type": "text",
    "id": "iE1iqRZctgxH"
   },
   "source": [
    "**Ответ:**\n",
    "\n",
    "        try:\n",
    "\n",
    "        except Exception as err:\n",
    "            print(\"Ошибка\", err)"
   ]
  },
  {
   "cell_type": "markdown",
   "metadata": {
    "colab_type": "text",
    "id": "EDAi3ZFBtgxI"
   },
   "source": [
    "Вы хотите с помощью print вывести параметры ошибки в консоль, как это сделать?"
   ]
  },
  {
   "cell_type": "markdown",
   "metadata": {
    "colab_type": "text",
    "id": "qWimgtF3tgxK"
   },
   "source": [
    "**Ответ:**\n",
    "\n",
    "        try:\n",
    "\n",
    "        except Exception as err:\n",
    "            print(\"Ошибка\", err.args)"
   ]
  },
  {
   "cell_type": "markdown",
   "metadata": {
    "colab_type": "text",
    "id": "leOCJIlRtgxK"
   },
   "source": [
    "Что такое DeprecationWarning?"
   ]
  },
  {
   "cell_type": "markdown",
   "metadata": {
    "colab_type": "text",
    "id": "KyaynuyvtgxL"
   },
   "source": [
    "**Ответ:**\n",
    "Предупреждение - в основном используется сторонними библиотеками, для сообщения какой-то важной инфоромации, например, то том, что данная функции не будет поддерживаться в следующей версии библиотеки."
   ]
  },
  {
   "cell_type": "markdown",
   "metadata": {
    "colab_type": "text",
    "id": "oxgCUHzotgxM"
   },
   "source": [
    "### Разминочные задания. \n",
    "<br>\n",
    "\n",
    "Вам даны две функции. Поисследуйте, какие ошибки могут возникнуть при их реализации. Обработайте эти ошибки."
   ]
  },
  {
   "cell_type": "code",
   "execution_count": 1,
   "metadata": {
    "colab": {},
    "colab_type": "code",
    "id": "X4nsMUUAtgxN"
   },
   "outputs": [],
   "source": [
    "def div():\n",
    "    for i in range(2):\n",
    "        x = int(input(\"enter a number: \"))\n",
    "        y = int(input(\"enter another number: \"))\n",
    "        print(x, '/', y, '=', x/y)\n"
   ]
  },
  {
   "cell_type": "code",
   "execution_count": 2,
   "metadata": {},
   "outputs": [
    {
     "name": "stdout",
     "output_type": "stream",
     "text": [
      "enter a number: \n",
      "10\n",
      "enter another number: \n",
      "0\n",
      "y не может быть равен '0' division by zero\n",
      "enter a number: \n",
      "10\n",
      "enter another number: \n",
      "i\n",
      "Введите корректные данные invalid literal for int() with base 10: 'i'\n"
     ]
    }
   ],
   "source": [
    "# возможны 2 типа ошибок - некорректно введенные данные и деление на \"0\"\n",
    "\n",
    "\n",
    "def div():\n",
    "    for i in range(2):\n",
    "        try:\n",
    "            x = int(input(\"enter a number: \\n\"))\n",
    "            y = int(input(\"enter another number: \\n\"))\n",
    "            print(x, '/', y, '=', x / y)\n",
    "        except ValueError as value_err:\n",
    "            print(\"Введите корректные данные\", value_err)\n",
    "        except ZeroDivisionError as zero_err:\n",
    "            print(\"y не может быть равен '0'\", zero_err)\n",
    "\n",
    "\n",
    "div()"
   ]
  },
  {
   "cell_type": "code",
   "execution_count": 0,
   "metadata": {
    "colab": {},
    "colab_type": "code",
    "id": "hoDmt-nStgxS"
   },
   "outputs": [],
   "source": [
    "def sumOfPairs(L1, L2):\n",
    "    sum = 0\n",
    "    sumOfPairs = []\n",
    "    for i in range(len(L1)):\n",
    "        sumOfPairs.append(L1[i]+L2[i])\n",
    "\n",
    "    print(\"sumOfPairs = \", sumOfPairs)\n",
    "    "
   ]
  },
  {
   "cell_type": "code",
   "execution_count": 4,
   "metadata": {},
   "outputs": [
    {
     "name": "stdout",
     "output_type": "stream",
     "text": [
      "Проверьте длину списков\n",
      " list index out of range\n",
      "Проверьте правильность данных\n",
      " can only concatenate str (not \"int\") to str\n",
      "Проверьте корректность данных\n",
      " name 'i' is not defined\n"
     ]
    }
   ],
   "source": [
    "# возможные типы ошибок:\n",
    "# IndexError - если len(L1) > len(L2)\n",
    "# TypeError - если тип элементов списков будет отличаться от int или float или если сами аргументы не будут являться списками\n",
    "# NameError - при попытке использовать неопределенную переменную в одном из списков\n",
    "\n",
    "# пример с NameError совершенно синтетический(IDE сама покажет, что переменная не определена),\n",
    "# но сделал его для полноты картины\n",
    "# а вообще в большинстве случаев ошибки надежней обрабатывать сразу с помошью if,\n",
    "# так как все равно после try: except: придется if использовать, получается лишний код\n",
    "# кроме, возможно, случаев, когда тип ошибки заранее вообще не известнет, \n",
    "# а эта конкретная операция не так важна для всей программы и ей можно пренебречь.\n",
    "# тогда лучше использовать Exception или даже BaseException\n",
    "\n",
    "\n",
    "\n",
    "def sum_of_pairs(L1, L2):\n",
    "    sum_of_pairs = []\n",
    "    try:\n",
    "        for i in range(len(L1)):\n",
    "            sum_of_pairs.append(L1[i] + L2[i])\n",
    "        print(\"sumOfPairs = \", sum_of_pairs)\n",
    "    except IndexError as index_err:\n",
    "        print(\"Проверьте длину списков\\n\", index_err)\n",
    "    except TypeError as type_err:\n",
    "        print(\"Проверьте правильность данных\\n\", type_err)\n",
    "\n",
    "\n",
    "try:\n",
    "    L1 = [1, 2, 3, 4]\n",
    "    L2 = [3, 2, 1]\n",
    "\n",
    "    sum_of_pairs(L1, L2)\n",
    "\n",
    "    L1 = [1, 2, \"3\"]\n",
    "    L2 = [3, 2, 1]\n",
    "\n",
    "    sum_of_pairs(L1, L2)\n",
    "\n",
    "    L1 = [1, 2, 3]\n",
    "    L2 = [3, 2, i]\n",
    "\n",
    "    sum_of_pairs(L1, L2)\n",
    "\n",
    "except NameError as name_err:\n",
    "    print(\"Проверьте корректность данных\\n\", name_err)"
   ]
  },
  {
   "cell_type": "markdown",
   "metadata": {
    "colab_type": "text",
    "id": "geX0-Zq6tgxU"
   },
   "source": [
    "### Задание 1.\n",
    "\n",
    "Есть файл с протоколом регистраций пользователей на сайте (registrations.txt).<br>\n",
    "Каждая строка содержит информацию о имени, электронной почте и возрасте человека. <br><br>\n",
    "\n",
    "\n",
    "Надо проверить данные из файла, для каждой строки:\n",
    " - присутсвуют все три поля\n",
    " - поле имени содержит только буквы\n",
    " - поле email содержит @ и .\n",
    " - поле возраст является числом от 10 до 99<br>\n",
    "\n",
    "В результате проверки нужно сформировать два файла\n",
    " - registrations_good.log для правильных данных, записывать строки как есть\n",
    "- registrations_bad.log для ошибочных, записывать строку и вид ошибки.<br>\n",
    "\n",
    "Для валидации строки данных написать метод, который может выкидывать исключения:\n",
    " - НЕ присутсвуют все три поля: ValueError\n",
    " - поле имени содержит НЕ только буквы: NotNameError (кастомное исключение)\n",
    " - поле email НЕ содержит @ и .(точку): NotEmailError (кастомное исключение)\n",
    " - поле возраст НЕ является числом от 10 до 99: ValueError\n",
    "Вызов метода обернуть в try-except."
   ]
  },
  {
   "cell_type": "code",
   "execution_count": 0,
   "metadata": {
    "colab": {},
    "colab_type": "code",
    "id": "Eq2Ax0LntgxW"
   },
   "outputs": [],
   "source": [
    "### YOUR CODE HERE ###\n"
   ]
  }
 ],
 "metadata": {
  "colab": {
   "name": "jun_anl_exeptions.ipynb",
   "provenance": [],
   "version": "0.3.2"
  },
  "kernelspec": {
   "display_name": "Python 3",
   "language": "python",
   "name": "python3"
  },
  "language_info": {
   "codemirror_mode": {
    "name": "ipython",
    "version": 3
   },
   "file_extension": ".py",
   "mimetype": "text/x-python",
   "name": "python",
   "nbconvert_exporter": "python",
   "pygments_lexer": "ipython3",
   "version": "3.7.6"
  }
 },
 "nbformat": 4,
 "nbformat_minor": 1
}
